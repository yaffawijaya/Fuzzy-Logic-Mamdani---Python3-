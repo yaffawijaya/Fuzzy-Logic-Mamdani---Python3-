{
  "nbformat": 4,
  "nbformat_minor": 0,
  "metadata": {
    "colab": {
      "provenance": [],
      "include_colab_link": true
    },
    "kernelspec": {
      "name": "python3",
      "display_name": "Python 3"
    },
    "language_info": {
      "name": "python"
    }
  },
  "cells": [
    {
      "cell_type": "markdown",
      "metadata": {
        "id": "view-in-github",
        "colab_type": "text"
      },
      "source": [
        "<a href=\"https://colab.research.google.com/github/yaffawijaya/Fuzzy-Logic-Mamdani---Python3-/blob/main/Fuzzy_Logic_Mamdani.ipynb\" target=\"_parent\"><img src=\"https://colab.research.google.com/assets/colab-badge.svg\" alt=\"Open In Colab\"/></a>"
      ]
    },
    {
      "cell_type": "markdown",
      "source": [
        "#TuPro 2 AI - Kelompok 4\n",
        "##Anggota Kelompok:\n",
        "- Yaffazka Afazillah Wijaya (130521xxxx)\n",
        "- Luhung Fallah Firdaus (130521xxxx)\n",
        "- Mugni Hidayah (130521xxxx)\n",
        "\n",
        "##Tugas:\n",
        "- Membaca dataset\n",
        "- Membuat Fungsi: Fuzzifikasi, Inferensi dan Defuzzifikasi\n",
        "- Mencari nilai kelayakan setiap kualitas dengan harga berdasarkan dataset \"suppier.xlsx\"\n",
        "- Ranking 5 terbesar berdasarkan kolom nilai kelayakan\n",
        "- Mengunduh dataset hasil logika fuzzy mamdani"
      ],
      "metadata": {
        "id": "_Be9_st1n5fW"
      }
    },
    {
      "cell_type": "code",
      "execution_count": 208,
      "metadata": {
        "id": "cH11FxnnY8eF"
      },
      "outputs": [],
      "source": [
        "import pandas as pd\n",
        "import numpy as np\n",
        "from google.colab import files\n",
        "import matplotlib.pyplot as plt\n"
      ]
    },
    {
      "cell_type": "markdown",
      "source": [
        "#Membaca Data dari Excel"
      ],
      "metadata": {
        "id": "Yp7uHYl-_1w4"
      }
    },
    {
      "cell_type": "code",
      "source": [
        "# data = files.upload()\n",
        "# df = pd.read_excel(io.BytesIO(data['supplier.xlsx']))\n",
        "\n",
        "df = pd.read_excel('supplier.xlsx', index_col=0, usecols=(\"id\",\"kualitas\",\"harga\"))\n",
        "df"
      ],
      "metadata": {
        "colab": {
          "base_uri": "https://localhost:8080/",
          "height": 455
        },
        "id": "w8xbanYtZpZS",
        "outputId": "3f64adf9-bbac-4b5d-9a69-8bdeb447b225"
      },
      "execution_count": 209,
      "outputs": [
        {
          "output_type": "execute_result",
          "data": {
            "text/plain": [
              "     kualitas  harga\n",
              "id                  \n",
              "1          58      7\n",
              "2          54      1\n",
              "3          98      2\n",
              "4          52      4\n",
              "5          11      4\n",
              "..        ...    ...\n",
              "96         30      1\n",
              "97         25      3\n",
              "98         27     10\n",
              "99          8      6\n",
              "100        11      8\n",
              "\n",
              "[100 rows x 2 columns]"
            ],
            "text/html": [
              "\n",
              "  <div id=\"df-c2428adc-f698-4048-9824-ce267d484d3f\">\n",
              "    <div class=\"colab-df-container\">\n",
              "      <div>\n",
              "<style scoped>\n",
              "    .dataframe tbody tr th:only-of-type {\n",
              "        vertical-align: middle;\n",
              "    }\n",
              "\n",
              "    .dataframe tbody tr th {\n",
              "        vertical-align: top;\n",
              "    }\n",
              "\n",
              "    .dataframe thead th {\n",
              "        text-align: right;\n",
              "    }\n",
              "</style>\n",
              "<table border=\"1\" class=\"dataframe\">\n",
              "  <thead>\n",
              "    <tr style=\"text-align: right;\">\n",
              "      <th></th>\n",
              "      <th>kualitas</th>\n",
              "      <th>harga</th>\n",
              "    </tr>\n",
              "    <tr>\n",
              "      <th>id</th>\n",
              "      <th></th>\n",
              "      <th></th>\n",
              "    </tr>\n",
              "  </thead>\n",
              "  <tbody>\n",
              "    <tr>\n",
              "      <th>1</th>\n",
              "      <td>58</td>\n",
              "      <td>7</td>\n",
              "    </tr>\n",
              "    <tr>\n",
              "      <th>2</th>\n",
              "      <td>54</td>\n",
              "      <td>1</td>\n",
              "    </tr>\n",
              "    <tr>\n",
              "      <th>3</th>\n",
              "      <td>98</td>\n",
              "      <td>2</td>\n",
              "    </tr>\n",
              "    <tr>\n",
              "      <th>4</th>\n",
              "      <td>52</td>\n",
              "      <td>4</td>\n",
              "    </tr>\n",
              "    <tr>\n",
              "      <th>5</th>\n",
              "      <td>11</td>\n",
              "      <td>4</td>\n",
              "    </tr>\n",
              "    <tr>\n",
              "      <th>...</th>\n",
              "      <td>...</td>\n",
              "      <td>...</td>\n",
              "    </tr>\n",
              "    <tr>\n",
              "      <th>96</th>\n",
              "      <td>30</td>\n",
              "      <td>1</td>\n",
              "    </tr>\n",
              "    <tr>\n",
              "      <th>97</th>\n",
              "      <td>25</td>\n",
              "      <td>3</td>\n",
              "    </tr>\n",
              "    <tr>\n",
              "      <th>98</th>\n",
              "      <td>27</td>\n",
              "      <td>10</td>\n",
              "    </tr>\n",
              "    <tr>\n",
              "      <th>99</th>\n",
              "      <td>8</td>\n",
              "      <td>6</td>\n",
              "    </tr>\n",
              "    <tr>\n",
              "      <th>100</th>\n",
              "      <td>11</td>\n",
              "      <td>8</td>\n",
              "    </tr>\n",
              "  </tbody>\n",
              "</table>\n",
              "<p>100 rows × 2 columns</p>\n",
              "</div>\n",
              "      <button class=\"colab-df-convert\" onclick=\"convertToInteractive('df-c2428adc-f698-4048-9824-ce267d484d3f')\"\n",
              "              title=\"Convert this dataframe to an interactive table.\"\n",
              "              style=\"display:none;\">\n",
              "        \n",
              "  <svg xmlns=\"http://www.w3.org/2000/svg\" height=\"24px\"viewBox=\"0 0 24 24\"\n",
              "       width=\"24px\">\n",
              "    <path d=\"M0 0h24v24H0V0z\" fill=\"none\"/>\n",
              "    <path d=\"M18.56 5.44l.94 2.06.94-2.06 2.06-.94-2.06-.94-.94-2.06-.94 2.06-2.06.94zm-11 1L8.5 8.5l.94-2.06 2.06-.94-2.06-.94L8.5 2.5l-.94 2.06-2.06.94zm10 10l.94 2.06.94-2.06 2.06-.94-2.06-.94-.94-2.06-.94 2.06-2.06.94z\"/><path d=\"M17.41 7.96l-1.37-1.37c-.4-.4-.92-.59-1.43-.59-.52 0-1.04.2-1.43.59L10.3 9.45l-7.72 7.72c-.78.78-.78 2.05 0 2.83L4 21.41c.39.39.9.59 1.41.59.51 0 1.02-.2 1.41-.59l7.78-7.78 2.81-2.81c.8-.78.8-2.07 0-2.86zM5.41 20L4 18.59l7.72-7.72 1.47 1.35L5.41 20z\"/>\n",
              "  </svg>\n",
              "      </button>\n",
              "      \n",
              "  <style>\n",
              "    .colab-df-container {\n",
              "      display:flex;\n",
              "      flex-wrap:wrap;\n",
              "      gap: 12px;\n",
              "    }\n",
              "\n",
              "    .colab-df-convert {\n",
              "      background-color: #E8F0FE;\n",
              "      border: none;\n",
              "      border-radius: 50%;\n",
              "      cursor: pointer;\n",
              "      display: none;\n",
              "      fill: #1967D2;\n",
              "      height: 32px;\n",
              "      padding: 0 0 0 0;\n",
              "      width: 32px;\n",
              "    }\n",
              "\n",
              "    .colab-df-convert:hover {\n",
              "      background-color: #E2EBFA;\n",
              "      box-shadow: 0px 1px 2px rgba(60, 64, 67, 0.3), 0px 1px 3px 1px rgba(60, 64, 67, 0.15);\n",
              "      fill: #174EA6;\n",
              "    }\n",
              "\n",
              "    [theme=dark] .colab-df-convert {\n",
              "      background-color: #3B4455;\n",
              "      fill: #D2E3FC;\n",
              "    }\n",
              "\n",
              "    [theme=dark] .colab-df-convert:hover {\n",
              "      background-color: #434B5C;\n",
              "      box-shadow: 0px 1px 3px 1px rgba(0, 0, 0, 0.15);\n",
              "      filter: drop-shadow(0px 1px 2px rgba(0, 0, 0, 0.3));\n",
              "      fill: #FFFFFF;\n",
              "    }\n",
              "  </style>\n",
              "\n",
              "      <script>\n",
              "        const buttonEl =\n",
              "          document.querySelector('#df-c2428adc-f698-4048-9824-ce267d484d3f button.colab-df-convert');\n",
              "        buttonEl.style.display =\n",
              "          google.colab.kernel.accessAllowed ? 'block' : 'none';\n",
              "\n",
              "        async function convertToInteractive(key) {\n",
              "          const element = document.querySelector('#df-c2428adc-f698-4048-9824-ce267d484d3f');\n",
              "          const dataTable =\n",
              "            await google.colab.kernel.invokeFunction('convertToInteractive',\n",
              "                                                     [key], {});\n",
              "          if (!dataTable) return;\n",
              "\n",
              "          const docLinkHtml = 'Like what you see? Visit the ' +\n",
              "            '<a target=\"_blank\" href=https://colab.research.google.com/notebooks/data_table.ipynb>data table notebook</a>'\n",
              "            + ' to learn more about interactive tables.';\n",
              "          element.innerHTML = '';\n",
              "          dataTable['output_type'] = 'display_data';\n",
              "          await google.colab.output.renderOutput(dataTable, element);\n",
              "          const docLink = document.createElement('div');\n",
              "          docLink.innerHTML = docLinkHtml;\n",
              "          element.appendChild(docLink);\n",
              "        }\n",
              "      </script>\n",
              "    </div>\n",
              "  </div>\n",
              "  "
            ]
          },
          "metadata": {},
          "execution_count": 209
        }
      ]
    },
    {
      "cell_type": "markdown",
      "source": [
        "#Visualisasi Bentuk & Fungsi Keanggotaan"
      ],
      "metadata": {
        "id": "PGaKwXGS-sAo"
      }
    },
    {
      "cell_type": "code",
      "source": [
        "def plotLinguistik(point, warna, label='', min=0, max=1):\n",
        "    # set nilai y \n",
        "    y = [0, 1, 1, 0]\n",
        "\n",
        "    # plot garis pertama\n",
        "    plt.plot([min, point[0]], [0, 0], warna)\n",
        "    \n",
        "    # plot garis antara garis pertama dan terakhir\n",
        "    for i in range(len(point) - 1):\n",
        "        plt.plot([point[i], point[i + 1]], [y[i], y[i + 1]], warna)\n",
        "    \n",
        "    # plot garis terakhir\n",
        "    plt.plot([point[3], max], [0, 0], warna, label=label)\n",
        "\n",
        "def linguistikGraph(membership, min=0, max=1):\n",
        "    colors = ['b', 'g', 'r', 'y']\n",
        "\n",
        "    # Plot masing-masing linguistik\n",
        "    i = 0\n",
        "    for ling in membership:\n",
        "        plotLinguistik(membership[ling], colors[i], ling, min=min, max=max)\n",
        "        i += 1\n",
        "    \n",
        "    plt.legend(loc=4)\n",
        "    plt.show()\n",
        "\n",
        "# Linguistik value kualitas\n",
        "kualitas = {\n",
        "    'buruk'   : [ 1, 10, 30, 40],\n",
        "    'biasa' : [ 35, 50, 60, 65],\n",
        "    'bagus'   : [60, 65, 70, 80],\n",
        "    'sangat bagus'  : [75, 90, 100, 100]\n",
        "}\n",
        "\n",
        "# Linguistik value harga\n",
        "harga = {\n",
        "    'murah'   : [0, 1, 2, 4],\n",
        "    'sedang' : [3, 5, 7, 8],\n",
        "    'mahal'   : [7, 9, 10, 10]\n",
        "}\n",
        "\n",
        "\n",
        "linguistikGraph(kualitas, max=100)\n",
        "linguistikGraph(harga, max=10)"
      ],
      "metadata": {
        "id": "H2DMlfyO_9E3",
        "colab": {
          "base_uri": "https://localhost:8080/",
          "height": 513
        },
        "outputId": "1443ebae-65f2-41e4-e6a7-d0ea69f889fb"
      },
      "execution_count": 210,
      "outputs": [
        {
          "output_type": "display_data",
          "data": {
            "text/plain": [
              "<Figure size 432x288 with 1 Axes>"
            ],
            "image/png": "[encoded data removed]"
          },
          "metadata": {
            "needs_background": "light"
          }
        },
        {
          "output_type": "display_data",
          "data": {
            "text/plain": [
              "<Figure size 432x288 with 1 Axes>"
            ],
            "image/png": "[encoded data removed]"
          },
          "metadata": {
            "needs_background": "light"
          }
        }
      ]
    },
    {
      "cell_type": "markdown",
      "source": [
        "#Variabel & Nilai Linguistik"
      ],
      "metadata": {
        "id": "pZgGEEcujHc9"
      }
    },
    {
      "cell_type": "code",
      "source": [
        "## Linguistic Variables\n",
        "set_nama_kualitas = ['buruk','biasa','bagus','sb']\n",
        "set_nama_harga = ['murah','sedang','mahal']\n",
        "\n",
        "## Linguistic Value\n",
        "# kualitas\n",
        "\n",
        "buruk = [1, 10, 30, 40]\n",
        "biasa = [35, 50, 60, 65]\n",
        "bagus = [60, 65, 70, 80]\n",
        "sb = [75, 90, 100, 100]\n",
        "\n",
        "# harga\n",
        "murah = [0, 1, 2, 4]\n",
        "sedang =  [3, 5, 7, 8]\n",
        "mahal = [7, 9, 10, 10]"
      ],
      "metadata": {
        "id": "sPmXUYkqoHIV"
      },
      "execution_count": 211,
      "outputs": []
    },
    {
      "cell_type": "markdown",
      "source": [
        "#Rumus Fungsi Bentuk : Trapezoid"
      ],
      "metadata": {
        "id": "7dK-IA81jNpG"
      }
    },
    {
      "cell_type": "code",
      "source": [
        "## Trapezoidal Function\n",
        "def trapezoid(x,a,b,c,d):\n",
        "  if (x<=a) or (x>=d):\n",
        "    return 0\n",
        "  elif (a<x<b):\n",
        "    return (x-a)/(b-a)\n",
        "  elif (b<=x<=c):\n",
        "    return 1\n",
        "  elif (c<x<=d):\n",
        "    return (d-x)/(d-c)\n",
        "\n",
        "list_kualitas = df['kualitas'].tolist()\n",
        "list_harga = df['harga'].tolist()\n"
      ],
      "metadata": {
        "id": "j14s0RuvfMyW"
      },
      "execution_count": 212,
      "outputs": []
    },
    {
      "cell_type": "markdown",
      "source": [
        "#Fuzzifikasi: \"Kualitas & Harga\""
      ],
      "metadata": {
        "id": "fOlBu5-imvXv"
      }
    },
    {
      "cell_type": "code",
      "source": [
        "def hasil_fungsi_kualitas(x):\n",
        "  global buruk\n",
        "  global biasa\n",
        "  global bagus\n",
        "  global sb\n",
        "\n",
        "  #buruk x biasa\n",
        "  if x in range(buruk[0],buruk[3]+1) and x in range(biasa[0],biasa[3]+1):\n",
        "    nilai_trapz_buruk = (trapezoid(x,buruk[0],buruk[1],buruk[2],buruk[3]))\n",
        "    nilai_trapz_biasa = (trapezoid(x,biasa[0],biasa[1],biasa[2],biasa[3]))\n",
        "    nama0,nama1 = set_nama_kualitas[0],set_nama_kualitas[1]\n",
        "    set_buruk = [nilai_trapz_buruk,nama0]\n",
        "    set_biasa = [nilai_trapz_biasa,nama1]\n",
        "    final = [set_buruk,set_biasa]\n",
        "    return final\n",
        "    \n",
        "  #buruk x buruk\n",
        "  elif x in range(buruk[0],buruk[3]+1):\n",
        "    nilai_trapz = (trapezoid(x,buruk[0],buruk[1],buruk[2],buruk[3]))\n",
        "    nama = set_nama_kualitas[0]\n",
        "    set_buruk1 = [nilai_trapz,nama]\n",
        "    set_buruk2 = [nilai_trapz+0.02,nama]\n",
        "    final = [set_buruk1,set_buruk2]\n",
        "    return final\n",
        "\n",
        "  #biasa x bagus\n",
        "  if x in range(biasa[0],biasa[3]+1) and x in range(bagus[0],bagus[3]+1):\n",
        "    nilai_trapz_biasa = (trapezoid(x,biasa[0],biasa[1],biasa[2],biasa[3]))\n",
        "    nilai_trapz_bagus = (trapezoid(x,bagus[0],bagus[1],bagus[2],bagus[3]))\n",
        "    nama1,nama2 = set_nama_kualitas[1],set_nama_kualitas[2]\n",
        "    set_biasa = [nilai_trapz_biasa,nama1]\n",
        "    set_bagus = [nilai_trapz_bagus,nama2]\n",
        "    final = [set_biasa,set_bagus]\n",
        "    return final\n",
        "\n",
        "  #biasa x biasa\n",
        "  elif x in range(biasa[0],biasa[3]+1):\n",
        "    nilai_trapz = (trapezoid(x,biasa[0],biasa[1],biasa[2],biasa[3]))\n",
        "    nama = set_nama_kualitas[1]\n",
        "    set_biasa1 = [nilai_trapz,nama]\n",
        "    set_biasa2 = [nilai_trapz+0.02,nama]\n",
        "    final = [set_biasa1,set_biasa2]\n",
        "    return final\n",
        "\n",
        "  #bagus x sb\n",
        "  if x in range(bagus[0],bagus[3]+1) and x in range(sb[0],sb[3]+1):\n",
        "    nilai_trapz_bagus = (trapezoid(x,bagus[0],bagus[1],bagus[2],bagus[3]))\n",
        "    nilai_trapz_sb = (trapezoid(x,sb[0],sb[1],sb[2],sb[3]))\n",
        "    nama2,nama3 = set_nama_kualitas[2],set_nama_kualitas[3]\n",
        "    set_bagus = [nilai_trapz_bagus,nama2]\n",
        "    set_sb = [nilai_trapz_sb,nama3]\n",
        "    final = [set_bagus,set_sb]\n",
        "    return final\n",
        "\n",
        "  #bagus x bagus\n",
        "  elif x in range(bagus[0],bagus[3]+1):\n",
        "    nilai_trapz = (trapezoid(x,bagus[0],bagus[1],bagus[2],bagus[3]))\n",
        "    nama = set_nama_kualitas[2]\n",
        "    set_bagus1 = [nilai_trapz,nama]\n",
        "    set_bagus2 = [nilai_trapz+0.02,nama]\n",
        "    final = [set_bagus1,set_bagus2]\n",
        "    return final\n",
        "\n",
        "  #sb x sb\n",
        "  elif x in range(sb[0],sb[3]+1):\n",
        "    nilai_trapz = (trapezoid(x,sb[0],sb[1],sb[2],sb[3]))\n",
        "    nama = set_nama_kualitas[2]\n",
        "    set_sb1 = [nilai_trapz,nama]\n",
        "    set_sb2 = [nilai_trapz+0.02,nama]\n",
        "    final = [set_sb1,set_sb2]\n",
        "    return final\n",
        "\n",
        "#harga \n",
        "def hasil_fungsi_harga(x):\n",
        "  global murah\n",
        "  global sedang\n",
        "  global mahal\n",
        "\n",
        "  #murah x sedang\n",
        "  if x in range(murah[0],murah[3]+1) and x in range(sedang[0],sedang[3]+1):\n",
        "    nilai_trapz_murah = (trapezoid(x,murah[0],murah[1],murah[2],murah[3]))\n",
        "    nilai_trapz_sedang = (trapezoid(x,sedang[0],sedang[1],sedang[2],sedang[3]))\n",
        "    nama0,nama1 = set_nama_harga[0],set_nama_harga[1]\n",
        "    set_murah = [nilai_trapz_murah,nama0]\n",
        "    set_sedang = [nilai_trapz_sedang,nama1]\n",
        "    final = [set_murah,set_sedang]\n",
        "    return final\n",
        "    \n",
        "  #murah x murah\n",
        "  elif x in range(murah[0],murah[3]+1):\n",
        "    nilai_trapz = (trapezoid(x,murah[0],murah[1],murah[2],murah[3]))\n",
        "    nama = set_nama_harga[0]\n",
        "    set_murah = [nilai_trapz,nama]\n",
        "    final = [set_murah,set_murah]\n",
        "    return final\n",
        "\n",
        "  #sedang x mahal\n",
        "  if x in range(sedang[0],sedang[3]+1) and x in range(mahal[0],mahal[3]+1):\n",
        "    nilai_trapz_sedang = (trapezoid(x,sedang[0],sedang[1],sedang[2],sedang[3]))\n",
        "    nilai_trapz_mahal = (trapezoid(x,mahal[0],mahal[1],mahal[2],mahal[3]))\n",
        "    nama1,nama2 = set_nama_harga[1],set_nama_harga[2]\n",
        "    set_sedang = [nilai_trapz_sedang,nama1]\n",
        "    set_mahal = [nilai_trapz_mahal,nama2]\n",
        "    final = [set_sedang,set_mahal]\n",
        "    return final\n",
        "\n",
        "  #sedang x sedang\n",
        "  elif x in range(sedang[0],sedang[3]+1):\n",
        "    nilai_trapz = (trapezoid(x,sedang[0],sedang[1],sedang[2],sedang[3]))\n",
        "    nama = set_nama_harga[1]\n",
        "    set_sedang = [nilai_trapz,nama]\n",
        "    final = [set_sedang,set_sedang]\n",
        "    return final\n",
        "\n",
        "  #mahal x mahal\n",
        "  elif x in range(mahal[0],mahal[3]+1) and x in range(mahal[0],mahal[3]+1):\n",
        "    nilai_trapz = (trapezoid(x,mahal[0],mahal[1],mahal[2],mahal[3]))\n",
        "    nama = set_nama_harga[2]\n",
        "    set_mahal = [nilai_trapz,nama]\n",
        "    final = [set_mahal,set_mahal]\n",
        "    return final\n",
        "\n",
        "\n",
        "list_fz1 = [hasil_fungsi_kualitas(list_kualitas[i]) for i in range(len(list_kualitas))]\n",
        "list_fz2 = [hasil_fungsi_harga(list_harga[i]) for i in range(len(list_harga))]"
      ],
      "metadata": {
        "id": "kB8F_-zvmrYp"
      },
      "execution_count": 213,
      "outputs": []
    },
    {
      "cell_type": "markdown",
      "source": [
        "#Fuzzy Rules"
      ],
      "metadata": {
        "id": "LU67X-FqmdvC"
      }
    },
    {
      "cell_type": "code",
      "source": [
        "## Fuzzy Rules Function\n",
        "def fuzzy_rules(nilai2,nilai1):\n",
        "  #Murah\n",
        "  if nilai1[1] == \"murah\" and nilai2[1] == \"buruk\":\n",
        "    return (\"rendah\",min(nilai1[0] , nilai2[0]))\n",
        "  elif nilai1[1] == \"murah\" and nilai2[1] == \"biasa\":\n",
        "    return (\"rendah\",min(nilai1[0] , nilai2[0]))\n",
        "  elif nilai1[1] == \"murah\" and nilai2[1] == \"bagus\":\n",
        "    return (\"tinggi\",min(nilai1[0] , nilai2[0]))\n",
        "  elif nilai1[1] == \"murah\" and nilai2[1] == \"sb\":\n",
        "    return (\"tinggi\",min(nilai1[0] , nilai2[0]))\n",
        "  \n",
        "  #Sedang\n",
        "  elif nilai1[1] == \"sedang\" and nilai2[1] == \"buruk\":\n",
        "    return (\"rendah\",min(nilai1[0] , nilai2[0]))\n",
        "  elif nilai1[1] == \"sedang\" and nilai2[1] == \"biasa\":\n",
        "    return (\"rendah\",min(nilai1[0] , nilai2[0]))\n",
        "  elif nilai1[1] == \"sedang\" and nilai2[1] == \"bagus\":\n",
        "    return (\"rendah\",min(nilai1[0] , nilai2[0]))\n",
        "  elif nilai1[1] == \"sedang\" and nilai2[1] == \"sb\":\n",
        "    return (\"tinggi\",min(nilai1[0] , nilai2[0]))\n",
        "\n",
        "  #Mahal\n",
        "  elif nilai1[1] == \"mahal\" and nilai2[1] == \"buruk\":\n",
        "    return (\"rendah\",min(nilai1[0] , nilai2[0]))\n",
        "  elif nilai1[1] == \"mahal\" and nilai2[1] == \"biasa\":\n",
        "    return (\"rendah\",min(nilai1[0] , nilai2[0]))\n",
        "  elif nilai1[1] == \"mahal\" and nilai2[1] == \"bagus\":\n",
        "    return (\"rendah\",min(nilai1[0] , nilai2[0]))\n",
        "  elif nilai1[1] == \"mahal\" and nilai2[1] == \"sb\":\n",
        "    return (\"rendah\",min(nilai1[0] , nilai2[0]))"
      ],
      "metadata": {
        "id": "sL_YN_p--Sv_"
      },
      "execution_count": 214,
      "outputs": []
    },
    {
      "cell_type": "markdown",
      "source": [
        "#Inferensi"
      ],
      "metadata": {
        "id": "kwIA_a4Dm5bk"
      }
    },
    {
      "cell_type": "code",
      "source": [
        "def inferensi(fz1,fz2):\n",
        "  inf1 = fuzzy_rules(fz1[0],fz2[0])\n",
        "  inf2 = fuzzy_rules(fz1[0],fz2[1])\n",
        "  inf3 = fuzzy_rules(fz1[1],fz2[0])\n",
        "  inf4 = fuzzy_rules(fz1[1],fz2[1])\n",
        "  final = [inf1,inf2,inf3,inf4]\n",
        "  return final\n",
        "\n",
        "def inf_filter_nama(fz1,fz2):\n",
        "  inf_list_name = [inferensi(fz1,fz2)[0][0],inferensi(fz1,fz2)[1][0],inferensi(fz1,fz2)[2][0],inferensi(fz1,fz2)[3][0]]\n",
        "  return inf_list_name\n",
        "\n",
        "def inf_filter_nilai(fz1,fz2):\n",
        "  inf_list_value = [inferensi(fz1,fz2)[0][1],inferensi(fz1,fz2)[1][1],inferensi(fz1,fz2)[2][1],inferensi(fz1,fz2)[3][1]]\n",
        "  return inf_list_value"
      ],
      "metadata": {
        "id": "9ENWFbkAh-4M"
      },
      "execution_count": 215,
      "outputs": []
    },
    {
      "cell_type": "markdown",
      "source": [
        "#Defuzzifikasi"
      ],
      "metadata": {
        "id": "hd9xR39Fm8dP"
      }
    },
    {
      "cell_type": "code",
      "source": [
        "def defuz(fz1,fz2): \n",
        "  if 'rendah' in inf_filter_nama(fz1,fz2) and 'tinggi' in inf_filter_nama(fz1,fz2):\n",
        "    final_r = []\n",
        "    final_t = []\n",
        "    for data in (inferensi(fz1,fz2)):\n",
        "      idx = 0\n",
        "      if 'rendah' in data[idx]:\n",
        "        final_r.append(data[1])\n",
        "      elif 'tinggi' in data:\n",
        "        final_t.append(data[1])\n",
        "    final_rendah = max(final_r)\n",
        "    final_tinggi = max(final_t)\n",
        "\n",
        "    if final_rendah != 0:\n",
        "      final_set_rendah = final_rendah\n",
        "    else:\n",
        "      final_set_rendah = 0.0001\n",
        "\n",
        "    if final_tinggi != 0:\n",
        "      final_set_tinggi = final_tinggi\n",
        "    else:\n",
        "      final_set_tinggi = 0.0001\n",
        "\n",
        "    return (((10+20+30+40+50+5)*(final_set_rendah) + 60*0.66+65*0.5+70*0.33) + ((60+70+80+90+100)*(final_set_tinggi) + 80*0.66+65*0.5+70*0.33)) / ((6*final_set_rendah+0.66+0.5+0.33) + (5*final_set_tinggi+0.66+0.5+0.33))\n",
        "\n",
        "  elif 'rendah' in inf_filter_nama(fz1,fz2):\n",
        "    final = max(inf_filter_nilai(fz1,fz2))\n",
        "    if final != 0:\n",
        "      final_set = final\n",
        "    else:\n",
        "      final_set = 0.0001\n",
        "\n",
        "    return ((10+20+30+40+50)*(final_set)+60*0.66+65*0.5+70*0.33)/(final_set*5+0.66+0.5+0.33)\n",
        "    \n",
        "  elif 'tinggi' in inf_filter_nama(fz1,fz2):\n",
        "    final = max(inf_filter_nilai(fz1,fz2))\n",
        "    if final != 0:\n",
        "      final_set = final\n",
        "    else:\n",
        "      final_set = 0.0001\n",
        "    \n",
        "    return (60*0.33 + 65*0.5 +(70+80+90+100)*(final_set))/(0.33+0.5+ (final_set)*4)"
      ],
      "metadata": {
        "id": "AykIY0opvmaw"
      },
      "execution_count": 216,
      "outputs": []
    },
    {
      "cell_type": "markdown",
      "source": [
        "#Main Program : \"Fuzzy Logic Mamdani\""
      ],
      "metadata": {
        "id": "-Kx4QxOamUsh"
      }
    },
    {
      "cell_type": "code",
      "source": [
        "#Main Program\n",
        "#Gunakan Run All untuk mendapatkan hasil 5 terbesar yang tepat\n",
        "\n",
        "hasil_fuzzy_mamdani = [defuz(list_fz1[i],list_fz2[i]) for i in range(100)]\n",
        "df['nilai_kelayakan'] = hasil_fuzzy_mamdani\n",
        "df = df.sort_values('nilai_kelayakan',ascending=False)\n",
        "df.head(5)"
      ],
      "metadata": {
        "colab": {
          "base_uri": "https://localhost:8080/",
          "height": 238
        },
        "id": "RUXLOZ9sSAWw",
        "outputId": "fc90e31a-9316-44e0-957b-3a64198dd7bf"
      },
      "execution_count": 217,
      "outputs": [
        {
          "output_type": "execute_result",
          "data": {
            "text/plain": [
              "    kualitas  harga  nilai_kelayakan\n",
              "id                                  \n",
              "3         98      2        81.221532\n",
              "17        70      3        73.644400\n",
              "52        94      3        73.644400\n",
              "92        83      3        73.644400\n",
              "91        98      3        73.644400"
            ],
            "text/html": [
              "\n",
              "  <div id=\"df-dd3b2bb2-72c8-4070-8b2f-2c7b030fc445\">\n",
              "    <div class=\"colab-df-container\">\n",
              "      <div>\n",
              "<style scoped>\n",
              "    .dataframe tbody tr th:only-of-type {\n",
              "        vertical-align: middle;\n",
              "    }\n",
              "\n",
              "    .dataframe tbody tr th {\n",
              "        vertical-align: top;\n",
              "    }\n",
              "\n",
              "    .dataframe thead th {\n",
              "        text-align: right;\n",
              "    }\n",
              "</style>\n",
              "<table border=\"1\" class=\"dataframe\">\n",
              "  <thead>\n",
              "    <tr style=\"text-align: right;\">\n",
              "      <th></th>\n",
              "      <th>kualitas</th>\n",
              "      <th>harga</th>\n",
              "      <th>nilai_kelayakan</th>\n",
              "    </tr>\n",
              "    <tr>\n",
              "      <th>id</th>\n",
              "      <th></th>\n",
              "      <th></th>\n",
              "      <th></th>\n",
              "    </tr>\n",
              "  </thead>\n",
              "  <tbody>\n",
              "    <tr>\n",
              "      <th>3</th>\n",
              "      <td>98</td>\n",
              "      <td>2</td>\n",
              "      <td>81.221532</td>\n",
              "    </tr>\n",
              "    <tr>\n",
              "      <th>17</th>\n",
              "      <td>70</td>\n",
              "      <td>3</td>\n",
              "      <td>73.644400</td>\n",
              "    </tr>\n",
              "    <tr>\n",
              "      <th>52</th>\n",
              "      <td>94</td>\n",
              "      <td>3</td>\n",
              "      <td>73.644400</td>\n",
              "    </tr>\n",
              "    <tr>\n",
              "      <th>92</th>\n",
              "      <td>83</td>\n",
              "      <td>3</td>\n",
              "      <td>73.644400</td>\n",
              "    </tr>\n",
              "    <tr>\n",
              "      <th>91</th>\n",
              "      <td>98</td>\n",
              "      <td>3</td>\n",
              "      <td>73.644400</td>\n",
              "    </tr>\n",
              "  </tbody>\n",
              "</table>\n",
              "</div>\n",
              "      <button class=\"colab-df-convert\" onclick=\"convertToInteractive('df-dd3b2bb2-72c8-4070-8b2f-2c7b030fc445')\"\n",
              "              title=\"Convert this dataframe to an interactive table.\"\n",
              "              style=\"display:none;\">\n",
              "        \n",
              "  <svg xmlns=\"http://www.w3.org/2000/svg\" height=\"24px\"viewBox=\"0 0 24 24\"\n",
              "       width=\"24px\">\n",
              "    <path d=\"M0 0h24v24H0V0z\" fill=\"none\"/>\n",
              "    <path d=\"M18.56 5.44l.94 2.06.94-2.06 2.06-.94-2.06-.94-.94-2.06-.94 2.06-2.06.94zm-11 1L8.5 8.5l.94-2.06 2.06-.94-2.06-.94L8.5 2.5l-.94 2.06-2.06.94zm10 10l.94 2.06.94-2.06 2.06-.94-2.06-.94-.94-2.06-.94 2.06-2.06.94z\"/><path d=\"M17.41 7.96l-1.37-1.37c-.4-.4-.92-.59-1.43-.59-.52 0-1.04.2-1.43.59L10.3 9.45l-7.72 7.72c-.78.78-.78 2.05 0 2.83L4 21.41c.39.39.9.59 1.41.59.51 0 1.02-.2 1.41-.59l7.78-7.78 2.81-2.81c.8-.78.8-2.07 0-2.86zM5.41 20L4 18.59l7.72-7.72 1.47 1.35L5.41 20z\"/>\n",
              "  </svg>\n",
              "      </button>\n",
              "      \n",
              "  <style>\n",
              "    .colab-df-container {\n",
              "      display:flex;\n",
              "      flex-wrap:wrap;\n",
              "      gap: 12px;\n",
              "    }\n",
              "\n",
              "    .colab-df-convert {\n",
              "      background-color: #E8F0FE;\n",
              "      border: none;\n",
              "      border-radius: 50%;\n",
              "      cursor: pointer;\n",
              "      display: none;\n",
              "      fill: #1967D2;\n",
              "      height: 32px;\n",
              "      padding: 0 0 0 0;\n",
              "      width: 32px;\n",
              "    }\n",
              "\n",
              "    .colab-df-convert:hover {\n",
              "      background-color: #E2EBFA;\n",
              "      box-shadow: 0px 1px 2px rgba(60, 64, 67, 0.3), 0px 1px 3px 1px rgba(60, 64, 67, 0.15);\n",
              "      fill: #174EA6;\n",
              "    }\n",
              "\n",
              "    [theme=dark] .colab-df-convert {\n",
              "      background-color: #3B4455;\n",
              "      fill: #D2E3FC;\n",
              "    }\n",
              "\n",
              "    [theme=dark] .colab-df-convert:hover {\n",
              "      background-color: #434B5C;\n",
              "      box-shadow: 0px 1px 3px 1px rgba(0, 0, 0, 0.15);\n",
              "      filter: drop-shadow(0px 1px 2px rgba(0, 0, 0, 0.3));\n",
              "      fill: #FFFFFF;\n",
              "    }\n",
              "  </style>\n",
              "\n",
              "      <script>\n",
              "        const buttonEl =\n",
              "          document.querySelector('#df-dd3b2bb2-72c8-4070-8b2f-2c7b030fc445 button.colab-df-convert');\n",
              "        buttonEl.style.display =\n",
              "          google.colab.kernel.accessAllowed ? 'block' : 'none';\n",
              "\n",
              "        async function convertToInteractive(key) {\n",
              "          const element = document.querySelector('#df-dd3b2bb2-72c8-4070-8b2f-2c7b030fc445');\n",
              "          const dataTable =\n",
              "            await google.colab.kernel.invokeFunction('convertToInteractive',\n",
              "                                                     [key], {});\n",
              "          if (!dataTable) return;\n",
              "\n",
              "          const docLinkHtml = 'Like what you see? Visit the ' +\n",
              "            '<a target=\"_blank\" href=https://colab.research.google.com/notebooks/data_table.ipynb>data table notebook</a>'\n",
              "            + ' to learn more about interactive tables.';\n",
              "          element.innerHTML = '';\n",
              "          dataTable['output_type'] = 'display_data';\n",
              "          await google.colab.output.renderOutput(dataTable, element);\n",
              "          const docLink = document.createElement('div');\n",
              "          docLink.innerHTML = docLinkHtml;\n",
              "          element.appendChild(docLink);\n",
              "        }\n",
              "      </script>\n",
              "    </div>\n",
              "  </div>\n",
              "  "
            ]
          },
          "metadata": {},
          "execution_count": 217
        }
      ]
    },
    {
      "cell_type": "markdown",
      "source": [
        "#Download File Excel:"
      ],
      "metadata": {
        "id": "Mk4-4dapzBJW"
      }
    },
    {
      "cell_type": "code",
      "source": [
        "## Output kedalam file excel\n",
        "# df.to_excel(\"supplier_5_besar.xlsx\")"
      ],
      "metadata": {
        "id": "ExzusLUfy4A5"
      },
      "execution_count": 218,
      "outputs": []
    }
  ]
}